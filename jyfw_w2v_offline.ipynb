{
 "cells": [
  {
   "cell_type": "code",
   "execution_count": 1,
   "metadata": {
    "collapsed": true
   },
   "outputs": [],
   "source": [
    "import numpy as np \n",
    "import pandas as pd\n",
    "import time\n",
    "import datetime\n",
    "import gc\n",
    "import jieba\n",
    "import functools\n",
    "from gensim.models import Word2Vec\n",
    "import json\n"
   ]
  },
  {
   "cell_type": "code",
   "execution_count": 2,
   "metadata": {},
   "outputs": [
    {
     "name": "stderr",
     "output_type": "stream",
     "text": [
      "/home/lab-zhao.yinhu/anaconda3/lib/python3.6/site-packages/IPython/core/interactiveshell.py:2717: DtypeWarning: Columns (30) have mixed types. Specify dtype option on import or set low_memory=False.\n",
      "  interactivity=interactivity, compiler=compiler, result=result)\n",
      "/home/lab-zhao.yinhu/anaconda3/lib/python3.6/site-packages/IPython/core/interactiveshell.py:2717: DtypeWarning: Columns (25,30) have mixed types. Specify dtype option on import or set low_memory=False.\n",
      "  interactivity=interactivity, compiler=compiler, result=result)\n"
     ]
    }
   ],
   "source": [
    "chusai_JGSLDJXX_train_df = pd.read_csv('../../chusai/data/train/机构设立（变更）登记信息.csv')\n",
    "fusai_JGSLDJXX_train_df = pd.read_csv('../../check/data/train/机构设立（变更）登记信息.csv')\n",
    "JGSLDJXX_test_df = pd.read_csv('../../check/data/test/机构设立（变更）登记信息.csv')\n",
    "\n"
   ]
  },
  {
   "cell_type": "code",
   "execution_count": 7,
   "metadata": {},
   "outputs": [
    {
     "name": "stderr",
     "output_type": "stream",
     "text": [
      "Building prefix dict from the default dictionary ...\n",
      "Dumping model to file cache /tmp/jieba.cache\n",
      "Loading model cost 2.409 seconds.\n",
      "Prefix dict has been built succesfully.\n"
     ]
    }
   ],
   "source": [
    "#定义jieba分词函数\n",
    "def jieba_sentences(sentence):\n",
    "    seg_list = jieba.cut(sentence)\n",
    "    seg_list = list(seg_list)\n",
    "    return seg_list\n",
    "\n",
    "total_df = pd.concat([chusai_JGSLDJXX_train_df, fusai_JGSLDJXX_train_df, JGSLDJXX_test_df])\n",
    "\n",
    "sentence_list = total_df[total_df['经营范围'].notnull()]['经营范围'].tolist()\n",
    "sentence_list = [jieba_sentences(x) for x in sentence_list]\n"
   ]
  },
  {
   "cell_type": "code",
   "execution_count": 8,
   "metadata": {
    "collapsed": true
   },
   "outputs": [],
   "source": [
    "my_model = Word2Vec(sentence_list, size=10, window=5, sg=1, hs=1, min_count=2, workers=1, seed=0)\n",
    "my_model.save('../temp/jyfw_w2v_offline.model')\n"
   ]
  },
  {
   "cell_type": "code",
   "execution_count": null,
   "metadata": {
    "collapsed": true
   },
   "outputs": [],
   "source": []
  }
 ],
 "metadata": {
  "kernelspec": {
   "display_name": "Python 3",
   "language": "python",
   "name": "python3"
  },
  "language_info": {
   "codemirror_mode": {
    "name": "ipython",
    "version": 3
   },
   "file_extension": ".py",
   "mimetype": "text/x-python",
   "name": "python",
   "nbconvert_exporter": "python",
   "pygments_lexer": "ipython3",
   "version": "3.6.1"
  }
 },
 "nbformat": 4,
 "nbformat_minor": 2
}
